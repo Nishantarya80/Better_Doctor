{
  "nbformat": 4,
  "nbformat_minor": 0,
  "metadata": {
    "colab": {
      "name": "Keras Practice 2.ipynb",
      "version": "0.3.2",
      "provenance": [],
      "collapsed_sections": []
    },
    "kernelspec": {
      "name": "python3",
      "display_name": "Python 3"
    },
    "accelerator": "GPU"
  },
  "cells": [
    {
      "metadata": {
        "id": "XJGOreb91Xqo",
        "colab_type": "code",
        "colab": {}
      },
      "cell_type": "code",
      "source": [
        "from keras.datasets import imdb\n",
        "from keras.layers import Dense,Conv1D,MaxPool1D,Embedding,Flatten,Dropout,GRU\n",
        "from keras.preprocessing.text import Tokenizer\n",
        "from keras.models import Sequential\n",
        "from keras.preprocessing.sequence import pad_sequences\n",
        "from sklearn.preprocessing import OneHotEncoder\n",
        "import numpy as np\n",
        "import pandas as pd\n",
        "import matplotlib.pyplot as plt"
      ],
      "execution_count": 0,
      "outputs": []
    },
    {
      "metadata": {
        "id": "18kYnitc2L_P",
        "colab_type": "code",
        "colab": {}
      },
      "cell_type": "code",
      "source": [
        "vocab_size = 5000\n",
        "max_len = 300\n",
        "(x,y),(x_t,y_t) = imdb.load_data(num_words=5000)"
      ],
      "execution_count": 0,
      "outputs": []
    },
    {
      "metadata": {
        "id": "C_RxweGu3Fbu",
        "colab_type": "code",
        "colab": {
          "base_uri": "https://localhost:8080/",
          "height": 463
        },
        "outputId": "d5863eea-2cec-489c-d333-8bd3706defef"
      },
      "cell_type": "code",
      "source": [
        "x_p = pad_sequences(x,maxlen=300,padding=\"pre\")\n",
        "x_p_t = pad_sequences(x_t,maxlen=300,padding = \"pre\")\n",
        "print(x[0])\n",
        "print(x_p[0])"
      ],
      "execution_count": 38,
      "outputs": [
        {
          "output_type": "stream",
          "text": [
            "[1, 14, 22, 16, 43, 530, 973, 1622, 1385, 65, 458, 4468, 66, 3941, 4, 173, 36, 256, 5, 25, 100, 43, 838, 112, 50, 670, 2, 9, 35, 480, 284, 5, 150, 4, 172, 112, 167, 2, 336, 385, 39, 4, 172, 4536, 1111, 17, 546, 38, 13, 447, 4, 192, 50, 16, 6, 147, 2025, 19, 14, 22, 4, 1920, 4613, 469, 4, 22, 71, 87, 12, 16, 43, 530, 38, 76, 15, 13, 1247, 4, 22, 17, 515, 17, 12, 16, 626, 18, 2, 5, 62, 386, 12, 8, 316, 8, 106, 5, 4, 2223, 2, 16, 480, 66, 3785, 33, 4, 130, 12, 16, 38, 619, 5, 25, 124, 51, 36, 135, 48, 25, 1415, 33, 6, 22, 12, 215, 28, 77, 52, 5, 14, 407, 16, 82, 2, 8, 4, 107, 117, 2, 15, 256, 4, 2, 7, 3766, 5, 723, 36, 71, 43, 530, 476, 26, 400, 317, 46, 7, 4, 2, 1029, 13, 104, 88, 4, 381, 15, 297, 98, 32, 2071, 56, 26, 141, 6, 194, 2, 18, 4, 226, 22, 21, 134, 476, 26, 480, 5, 144, 30, 2, 18, 51, 36, 28, 224, 92, 25, 104, 4, 226, 65, 16, 38, 1334, 88, 12, 16, 283, 5, 16, 4472, 113, 103, 32, 15, 16, 2, 19, 178, 32]\n",
            "[   0    0    0    0    0    0    0    0    0    0    0    0    0    0\n",
            "    0    0    0    0    0    0    0    0    0    0    0    0    0    0\n",
            "    0    0    0    0    0    0    0    0    0    0    0    0    0    0\n",
            "    0    0    0    0    0    0    0    0    0    0    0    0    0    0\n",
            "    0    0    0    0    0    0    0    0    0    0    0    0    0    0\n",
            "    0    0    0    0    0    0    0    0    0    0    0    0    1   14\n",
            "   22   16   43  530  973 1622 1385   65  458 4468   66 3941    4  173\n",
            "   36  256    5   25  100   43  838  112   50  670    2    9   35  480\n",
            "  284    5  150    4  172  112  167    2  336  385   39    4  172 4536\n",
            " 1111   17  546   38   13  447    4  192   50   16    6  147 2025   19\n",
            "   14   22    4 1920 4613  469    4   22   71   87   12   16   43  530\n",
            "   38   76   15   13 1247    4   22   17  515   17   12   16  626   18\n",
            "    2    5   62  386   12    8  316    8  106    5    4 2223    2   16\n",
            "  480   66 3785   33    4  130   12   16   38  619    5   25  124   51\n",
            "   36  135   48   25 1415   33    6   22   12  215   28   77   52    5\n",
            "   14  407   16   82    2    8    4  107  117    2   15  256    4    2\n",
            "    7 3766    5  723   36   71   43  530  476   26  400  317   46    7\n",
            "    4    2 1029   13  104   88    4  381   15  297   98   32 2071   56\n",
            "   26  141    6  194    2   18    4  226   22   21  134  476   26  480\n",
            "    5  144   30    2   18   51   36   28  224   92   25  104    4  226\n",
            "   65   16   38 1334   88   12   16  283    5   16 4472  113  103   32\n",
            "   15   16    2   19  178   32]\n"
          ],
          "name": "stdout"
        }
      ]
    },
    {
      "metadata": {
        "id": "8n9Ll3js3Fr9",
        "colab_type": "code",
        "colab": {}
      },
      "cell_type": "code",
      "source": [
        ""
      ],
      "execution_count": 0,
      "outputs": []
    },
    {
      "metadata": {
        "id": "YncsTbfB15b6",
        "colab_type": "code",
        "colab": {
          "base_uri": "https://localhost:8080/",
          "height": 332
        },
        "outputId": "c8f37276-e109-44c1-d049-68c1c13f6b2c"
      },
      "cell_type": "code",
      "source": [
        "model = Sequential()\n",
        "model.add(Embedding(vocab_size,64,input_length=max_len))\n",
        "model.add(Flatten())\n",
        "model.add(Dense(256,activation=\"relu\"))\n",
        "model.add(Dense(64,activation = \"relu\"))\n",
        "model.add(Dense(1,activation=\"sigmoid\"))\n",
        "model.summary()\n",
        "model.compile(loss='binary_crossentropy', optimizer='adam', metrics=['accuracy'])\n"
      ],
      "execution_count": 55,
      "outputs": [
        {
          "output_type": "stream",
          "text": [
            "_________________________________________________________________\n",
            "Layer (type)                 Output Shape              Param #   \n",
            "=================================================================\n",
            "embedding_4 (Embedding)      (None, 300, 64)           320000    \n",
            "_________________________________________________________________\n",
            "flatten_4 (Flatten)          (None, 19200)             0         \n",
            "_________________________________________________________________\n",
            "dense_10 (Dense)             (None, 256)               4915456   \n",
            "_________________________________________________________________\n",
            "dense_11 (Dense)             (None, 64)                16448     \n",
            "_________________________________________________________________\n",
            "dense_12 (Dense)             (None, 1)                 65        \n",
            "=================================================================\n",
            "Total params: 5,251,969\n",
            "Trainable params: 5,251,969\n",
            "Non-trainable params: 0\n",
            "_________________________________________________________________\n"
          ],
          "name": "stdout"
        }
      ]
    },
    {
      "metadata": {
        "id": "jPBX5aoE3Fwm",
        "colab_type": "code",
        "colab": {
          "base_uri": "https://localhost:8080/",
          "height": 241
        },
        "outputId": "d7ffcf3c-babb-4ffe-f990-b3c633614912"
      },
      "cell_type": "code",
      "source": [
        "encoder = OneHotEncoder(sparse=False)\n",
        "y = y.reshape(-1,1)\n",
        "y_p = encoder.fit_transform(y)\n",
        "y"
      ],
      "execution_count": 56,
      "outputs": [
        {
          "output_type": "stream",
          "text": [
            "/usr/local/lib/python3.6/dist-packages/sklearn/preprocessing/_encoders.py:371: FutureWarning: The handling of integer data will change in version 0.22. Currently, the categories are determined based on the range [0, max(values)], while in the future they will be determined based on the unique values.\n",
            "If you want the future behaviour and silence this warning, you can specify \"categories='auto'\".\n",
            "In case you used a LabelEncoder before this OneHotEncoder to convert the categories to integers, then you can now use the OneHotEncoder directly.\n",
            "  warnings.warn(msg, FutureWarning)\n"
          ],
          "name": "stderr"
        },
        {
          "output_type": "execute_result",
          "data": {
            "text/plain": [
              "array([[1],\n",
              "       [0],\n",
              "       [0],\n",
              "       ...,\n",
              "       [0],\n",
              "       [1],\n",
              "       [0]])"
            ]
          },
          "metadata": {
            "tags": []
          },
          "execution_count": 56
        }
      ]
    },
    {
      "metadata": {
        "id": "E5wst2UR760x",
        "colab_type": "code",
        "colab": {
          "base_uri": "https://localhost:8080/",
          "height": 147
        },
        "outputId": "3dc13096-41cf-43f8-afd5-09479fba3e5c"
      },
      "cell_type": "code",
      "source": [
        "y_p"
      ],
      "execution_count": 57,
      "outputs": [
        {
          "output_type": "execute_result",
          "data": {
            "text/plain": [
              "array([[0., 1.],\n",
              "       [1., 0.],\n",
              "       [1., 0.],\n",
              "       ...,\n",
              "       [1., 0.],\n",
              "       [0., 1.],\n",
              "       [1., 0.]])"
            ]
          },
          "metadata": {
            "tags": []
          },
          "execution_count": 57
        }
      ]
    },
    {
      "metadata": {
        "id": "jBJKodK88o_K",
        "colab_type": "code",
        "colab": {
          "base_uri": "https://localhost:8080/",
          "height": 239
        },
        "outputId": "b6c23ca5-e624-4da5-dbf9-e1a9da6334de"
      },
      "cell_type": "code",
      "source": [
        "model.fit(x_p,y,epochs=5,validation_data=(x_p_t,y_t))"
      ],
      "execution_count": 58,
      "outputs": [
        {
          "output_type": "stream",
          "text": [
            "Train on 25000 samples, validate on 25000 samples\n",
            "Epoch 1/5\n",
            "25000/25000 [==============================] - 12s 469us/step - loss: 0.3945 - acc: 0.8090 - val_loss: 0.2912 - val_acc: 0.8768\n",
            "Epoch 2/5\n",
            "25000/25000 [==============================] - 11s 442us/step - loss: 0.1083 - acc: 0.9612 - val_loss: 0.4369 - val_acc: 0.8478\n",
            "Epoch 3/5\n",
            "25000/25000 [==============================] - 11s 440us/step - loss: 0.0282 - acc: 0.9903 - val_loss: 0.5747 - val_acc: 0.8512\n",
            "Epoch 4/5\n",
            "25000/25000 [==============================] - 11s 440us/step - loss: 0.0198 - acc: 0.9926 - val_loss: 0.6730 - val_acc: 0.8451\n",
            "Epoch 5/5\n",
            "25000/25000 [==============================] - 11s 452us/step - loss: 0.0182 - acc: 0.9937 - val_loss: 0.7142 - val_acc: 0.8496\n"
          ],
          "name": "stdout"
        },
        {
          "output_type": "execute_result",
          "data": {
            "text/plain": [
              "<keras.callbacks.History at 0x7f0fd18878d0>"
            ]
          },
          "metadata": {
            "tags": []
          },
          "execution_count": 58
        }
      ]
    },
    {
      "metadata": {
        "id": "mXlDtsMz9Yrk",
        "colab_type": "code",
        "colab": {}
      },
      "cell_type": "code",
      "source": [
        "h = model.history.history"
      ],
      "execution_count": 0,
      "outputs": []
    },
    {
      "metadata": {
        "id": "hI6erKl5-K6i",
        "colab_type": "code",
        "colab": {
          "base_uri": "https://localhost:8080/",
          "height": 347
        },
        "outputId": "ec32405b-2722-4742-e16e-d48cd0c9c462"
      },
      "cell_type": "code",
      "source": [
        "plt.style.use(\"seaborn\")\n",
        "plt.plot(h[\"acc\"],label = \"Accuracy\")\n",
        "plt.plot(h[\"val_acc\"],label = \"Validation Accuracy\",c=\"r\")\n",
        "plt.legend()\n",
        "plt.show()"
      ],
      "execution_count": 61,
      "outputs": [
        {
          "output_type": "display_data",
          "data": {
            "image/png": "[encoded data removed]",
            "text/plain": [
              "<Figure size 576x396 with 1 Axes>"
            ]
          },
          "metadata": {
            "tags": []
          }
        }
      ]
    },
    {
      "metadata": {
        "id": "7FognBvN_2tE",
        "colab_type": "text"
      },
      "cell_type": "markdown",
      "source": [
        "## Implementation of CNN"
      ]
    },
    {
      "metadata": {
        "id": "EWksIUem-Lfk",
        "colab_type": "code",
        "colab": {
          "base_uri": "https://localhost:8080/",
          "height": 406
        },
        "outputId": "77828b80-25d8-41a0-b154-63687046d038"
      },
      "cell_type": "code",
      "source": [
        "model2 = Sequential()\n",
        "model2.add(Embedding(5000,64,input_length=300))\n",
        "model2.add(Conv1D(filters=32,kernel_size=30))\n",
        "model2.add(MaxPool1D(pool_size=271))\n",
        "model2.add(Flatten())\n",
        "model2.add(Dense(256,activation=\"relu\"))\n",
        "model2.add(Dense(64,activation = \"relu\"))\n",
        "model2.add(Dense(1,activation=\"sigmoid\"))\n",
        "model2.summary()\n",
        "model2.compile(loss='binary_crossentropy', optimizer='adam', metrics=['accuracy'])"
      ],
      "execution_count": 78,
      "outputs": [
        {
          "output_type": "stream",
          "text": [
            "_________________________________________________________________\n",
            "Layer (type)                 Output Shape              Param #   \n",
            "=================================================================\n",
            "embedding_12 (Embedding)     (None, 300, 64)           320000    \n",
            "_________________________________________________________________\n",
            "conv1d_7 (Conv1D)            (None, 271, 32)           61472     \n",
            "_________________________________________________________________\n",
            "max_pooling1d_7 (MaxPooling1 (None, 1, 32)             0         \n",
            "_________________________________________________________________\n",
            "flatten_11 (Flatten)         (None, 32)                0         \n",
            "_________________________________________________________________\n",
            "dense_31 (Dense)             (None, 256)               8448      \n",
            "_________________________________________________________________\n",
            "dense_32 (Dense)             (None, 64)                16448     \n",
            "_________________________________________________________________\n",
            "dense_33 (Dense)             (None, 1)                 65        \n",
            "=================================================================\n",
            "Total params: 406,433\n",
            "Trainable params: 406,433\n",
            "Non-trainable params: 0\n",
            "_________________________________________________________________\n"
          ],
          "name": "stdout"
        }
      ]
    },
    {
      "metadata": {
        "id": "-AB1HxnvBng4",
        "colab_type": "code",
        "colab": {
          "base_uri": "https://localhost:8080/",
          "height": 239
        },
        "outputId": "70259c3f-815d-4ef1-b582-f4189046c8b7"
      },
      "cell_type": "code",
      "source": [
        "model2.fit(x_p,y,epochs=5,validation_data=(x_p_t,y_t))"
      ],
      "execution_count": 79,
      "outputs": [
        {
          "output_type": "stream",
          "text": [
            "Train on 25000 samples, validate on 25000 samples\n",
            "Epoch 1/5\n",
            "25000/25000 [==============================] - 14s 574us/step - loss: 0.4056 - acc: 0.7961 - val_loss: 0.3046 - val_acc: 0.8692\n",
            "Epoch 2/5\n",
            "25000/25000 [==============================] - 13s 514us/step - loss: 0.2000 - acc: 0.9239 - val_loss: 0.3087 - val_acc: 0.8694\n",
            "Epoch 3/5\n",
            "25000/25000 [==============================] - 13s 516us/step - loss: 0.0791 - acc: 0.9756 - val_loss: 0.4887 - val_acc: 0.8460\n",
            "Epoch 4/5\n",
            "25000/25000 [==============================] - 13s 513us/step - loss: 0.0407 - acc: 0.9862 - val_loss: 0.4948 - val_acc: 0.8634\n",
            "Epoch 5/5\n",
            "25000/25000 [==============================] - 13s 518us/step - loss: 0.0333 - acc: 0.9878 - val_loss: 0.6142 - val_acc: 0.8565\n"
          ],
          "name": "stdout"
        },
        {
          "output_type": "execute_result",
          "data": {
            "text/plain": [
              "<keras.callbacks.History at 0x7f0fd19a4b70>"
            ]
          },
          "metadata": {
            "tags": []
          },
          "execution_count": 79
        }
      ]
    },
    {
      "metadata": {
        "id": "5SMGgGfOB4Jw",
        "colab_type": "code",
        "colab": {}
      },
      "cell_type": "code",
      "source": [
        "h2 = model2.history.history"
      ],
      "execution_count": 0,
      "outputs": []
    },
    {
      "metadata": {
        "id": "wTgwDPrSCS--",
        "colab_type": "code",
        "colab": {
          "base_uri": "https://localhost:8080/",
          "height": 347
        },
        "outputId": "7a52fdd1-f47d-471d-e060-05a2f7797af6"
      },
      "cell_type": "code",
      "source": [
        "plt.style.use(\"seaborn\")\n",
        "plt.plot(h2[\"acc\"],label = \"Acc\")\n",
        "plt.plot(h2[\"val_acc\"],label = \"Val_Acc\",c='r')\n",
        "plt.legend()\n",
        "plt.show()"
      ],
      "execution_count": 84,
      "outputs": [
        {
          "output_type": "display_data",
          "data": {
            "image/png": "[encoded data removed]",
            "text/plain": [
              "<Figure size 576x396 with 1 Axes>"
            ]
          },
          "metadata": {
            "tags": []
          }
        }
      ]
    },
    {
      "metadata": {
        "id": "jgkgfSaOGcgL",
        "colab_type": "text"
      },
      "cell_type": "markdown",
      "source": [
        "# Preventing overfitting using Dropouts"
      ]
    },
    {
      "metadata": {
        "id": "-3y8TRMjClSb",
        "colab_type": "code",
        "colab": {
          "base_uri": "https://localhost:8080/",
          "height": 443
        },
        "outputId": "14df363a-7a00-4540-e911-278d4e08c4b6"
      },
      "cell_type": "code",
      "source": [
        "model3 = Sequential()\n",
        "model3.add(Embedding(5000,64,input_length=300))\n",
        "model3.add(Conv1D(filters=32,kernel_size=30))\n",
        "model3.add(MaxPool1D(pool_size=271))\n",
        "model3.add(Flatten())\n",
        "model3.add(Dense(256,activation=\"relu\"))\n",
        "model3.add(Dropout(rate = 0.2))\n",
        "model3.add(Dense(64,activation = \"relu\"))\n",
        "model3.add(Dense(1,activation=\"sigmoid\"))\n",
        "model3.summary()\n",
        "model3.compile(loss='binary_crossentropy', optimizer='adam', metrics=['accuracy'])"
      ],
      "execution_count": 80,
      "outputs": [
        {
          "output_type": "stream",
          "text": [
            "_________________________________________________________________\n",
            "Layer (type)                 Output Shape              Param #   \n",
            "=================================================================\n",
            "embedding_13 (Embedding)     (None, 300, 64)           320000    \n",
            "_________________________________________________________________\n",
            "conv1d_8 (Conv1D)            (None, 271, 32)           61472     \n",
            "_________________________________________________________________\n",
            "max_pooling1d_8 (MaxPooling1 (None, 1, 32)             0         \n",
            "_________________________________________________________________\n",
            "flatten_12 (Flatten)         (None, 32)                0         \n",
            "_________________________________________________________________\n",
            "dense_34 (Dense)             (None, 256)               8448      \n",
            "_________________________________________________________________\n",
            "dropout_2 (Dropout)          (None, 256)               0         \n",
            "_________________________________________________________________\n",
            "dense_35 (Dense)             (None, 64)                16448     \n",
            "_________________________________________________________________\n",
            "dense_36 (Dense)             (None, 1)                 65        \n",
            "=================================================================\n",
            "Total params: 406,433\n",
            "Trainable params: 406,433\n",
            "Non-trainable params: 0\n",
            "_________________________________________________________________\n"
          ],
          "name": "stdout"
        }
      ]
    },
    {
      "metadata": {
        "id": "Yh5Dy1XtGhMC",
        "colab_type": "code",
        "colab": {
          "base_uri": "https://localhost:8080/",
          "height": 239
        },
        "outputId": "e630bd7b-0bcf-4a69-ae21-e605b32bf124"
      },
      "cell_type": "code",
      "source": [
        "model3.fit(x_p,y,epochs=5,validation_data=(x_p_t,y_t))"
      ],
      "execution_count": 81,
      "outputs": [
        {
          "output_type": "stream",
          "text": [
            "Train on 25000 samples, validate on 25000 samples\n",
            "Epoch 1/5\n",
            "25000/25000 [==============================] - 14s 568us/step - loss: 0.4039 - acc: 0.7996 - val_loss: 0.2932 - val_acc: 0.8738\n",
            "Epoch 2/5\n",
            "25000/25000 [==============================] - 13s 521us/step - loss: 0.1978 - acc: 0.9242 - val_loss: 0.3203 - val_acc: 0.8723\n",
            "Epoch 3/5\n",
            "25000/25000 [==============================] - 13s 513us/step - loss: 0.0827 - acc: 0.9729 - val_loss: 0.4064 - val_acc: 0.8621\n",
            "Epoch 4/5\n",
            "25000/25000 [==============================] - 13s 526us/step - loss: 0.0453 - acc: 0.9834 - val_loss: 0.5273 - val_acc: 0.8642\n",
            "Epoch 5/5\n",
            "25000/25000 [==============================] - 14s 572us/step - loss: 0.0350 - acc: 0.9871 - val_loss: 0.4964 - val_acc: 0.8644\n"
          ],
          "name": "stdout"
        },
        {
          "output_type": "execute_result",
          "data": {
            "text/plain": [
              "<keras.callbacks.History at 0x7f0fd19aecc0>"
            ]
          },
          "metadata": {
            "tags": []
          },
          "execution_count": 81
        }
      ]
    },
    {
      "metadata": {
        "id": "KESBiwlmG0Ik",
        "colab_type": "code",
        "colab": {
          "base_uri": "https://localhost:8080/",
          "height": 347
        },
        "outputId": "b591cba8-05f4-42f0-db13-92b45cc402d8"
      },
      "cell_type": "code",
      "source": [
        "h3 = model3.history.history\n",
        "plt.style.use(\"seaborn\")\n",
        "plt.plot(h2[\"acc\"],label = \"Acc\")\n",
        "plt.plot(h2[\"val_acc\"],label = \"Val_Acc\",c='r')\n",
        "plt.legend()\n",
        "plt.show()"
      ],
      "execution_count": 85,
      "outputs": [
        {
          "output_type": "display_data",
          "data": {
            "image/png": "[encoded data removed]",
            "text/plain": [
              "<Figure size 576x396 with 1 Axes>"
            ]
          },
          "metadata": {
            "tags": []
          }
        }
      ]
    },
    {
      "metadata": {
        "id": "YhLlxuaxIpt0",
        "colab_type": "text"
      },
      "cell_type": "markdown",
      "source": [
        "# Recurrent Neural Network Implementation"
      ]
    },
    {
      "metadata": {
        "id": "UJWZ6lOhHMyZ",
        "colab_type": "code",
        "colab": {
          "base_uri": "https://localhost:8080/",
          "height": 295
        },
        "outputId": "c3736580-81e0-48a0-d993-14adaeae26a1"
      },
      "cell_type": "code",
      "source": [
        "model4 = Sequential()\n",
        "model4.add(Embedding(5000,64,input_length=300))\n",
        "model4.add(Conv1D(filters=32,kernel_size=30))\n",
        "model4.add(GRU(units = 32, dropout = 0.2,recurrent_dropout=0.2))\n",
        "model4.add(Dense(1,activation=\"sigmoid\"))\n",
        "model4.summary()\n",
        "model4.compile(loss='binary_crossentropy', optimizer='adam', metrics=['accuracy'])"
      ],
      "execution_count": 92,
      "outputs": [
        {
          "output_type": "stream",
          "text": [
            "_________________________________________________________________\n",
            "Layer (type)                 Output Shape              Param #   \n",
            "=================================================================\n",
            "embedding_16 (Embedding)     (None, 300, 64)           320000    \n",
            "_________________________________________________________________\n",
            "conv1d_11 (Conv1D)           (None, 271, 32)           61472     \n",
            "_________________________________________________________________\n",
            "gru_3 (GRU)                  (None, 32)                6240      \n",
            "_________________________________________________________________\n",
            "dense_41 (Dense)             (None, 1)                 33        \n",
            "=================================================================\n",
            "Total params: 387,745\n",
            "Trainable params: 387,745\n",
            "Non-trainable params: 0\n",
            "_________________________________________________________________\n"
          ],
          "name": "stdout"
        }
      ]
    },
    {
      "metadata": {
        "id": "OcWtLcQ4Jo2R",
        "colab_type": "code",
        "colab": {
          "base_uri": "https://localhost:8080/",
          "height": 239
        },
        "outputId": "bdea0022-c081-4c57-91df-dc422fc0777f"
      },
      "cell_type": "code",
      "source": [
        "model4.fit(x_p,y,epochs=5,validation_data=(x_p_t,y_t))"
      ],
      "execution_count": 93,
      "outputs": [
        {
          "output_type": "stream",
          "text": [
            "Train on 25000 samples, validate on 25000 samples\n",
            "Epoch 1/5\n",
            "25000/25000 [==============================] - 634s 25ms/step - loss: 0.4704 - acc: 0.7700 - val_loss: 0.3832 - val_acc: 0.8328\n",
            "Epoch 2/5\n",
            "25000/25000 [==============================] - 631s 25ms/step - loss: 0.3215 - acc: 0.8625 - val_loss: 0.3908 - val_acc: 0.8310\n",
            "Epoch 3/5\n",
            "25000/25000 [==============================] - 627s 25ms/step - loss: 0.2096 - acc: 0.9183 - val_loss: 0.4815 - val_acc: 0.8076\n",
            "Epoch 4/5\n",
            "25000/25000 [==============================] - 622s 25ms/step - loss: 0.0828 - acc: 0.9718 - val_loss: 0.6379 - val_acc: 0.7959\n",
            "Epoch 5/5\n",
            "25000/25000 [==============================] - 620s 25ms/step - loss: 0.0249 - acc: 0.9932 - val_loss: 0.8225 - val_acc: 0.7984\n"
          ],
          "name": "stdout"
        },
        {
          "output_type": "execute_result",
          "data": {
            "text/plain": [
              "<keras.callbacks.History at 0x7f0fb05fcb70>"
            ]
          },
          "metadata": {
            "tags": []
          },
          "execution_count": 93
        }
      ]
    },
    {
      "metadata": {
        "id": "KS2CiAstJxjS",
        "colab_type": "code",
        "colab": {}
      },
      "cell_type": "code",
      "source": [
        "h4 = model4.history.history"
      ],
      "execution_count": 0,
      "outputs": []
    },
    {
      "metadata": {
        "id": "eHaoHsQsWZdX",
        "colab_type": "code",
        "colab": {
          "base_uri": "https://localhost:8080/",
          "height": 347
        },
        "outputId": "865c9eda-f052-47bb-8afa-add10c8f1f32"
      },
      "cell_type": "code",
      "source": [
        "plt.style.use(\"seaborn\")\n",
        "plt.plot(h4[\"acc\"],label=\"Acc\")\n",
        "plt.plot(h4[\"val_acc\"],label=\"Val_Acc\",c=\"r\")\n",
        "plt.legend()\n",
        "plt.show()\n"
      ],
      "execution_count": 95,
      "outputs": [
        {
          "output_type": "display_data",
          "data": {
            "image/png": "[encoded data removed]",
            "text/plain": [
              "<Figure size 576x396 with 1 Axes>"
            ]
          },
          "metadata": {
            "tags": []
          }
        }
      ]
    },
    {
      "metadata": {
        "id": "Fm3y8sUZWpjC",
        "colab_type": "code",
        "colab": {
          "base_uri": "https://localhost:8080/",
          "height": 295
        },
        "outputId": "ceb0c5a7-8fa4-490b-dcc8-6877c551005f"
      },
      "cell_type": "code",
      "source": [
        "model4 = Sequential()\n",
        "model4.add(Embedding(5000,64,input_length=300))\n",
        "model4.add(Conv1D(filters=32,kernel_size=6,strides=6))\n",
        "model4.add(GRU(units = 32, dropout = 0.2,recurrent_dropout=0.2))\n",
        "model4.add(Dense(1,activation=\"sigmoid\"))\n",
        "model4.summary()\n",
        "model4.compile(loss='binary_crossentropy', optimizer='adam', metrics=['accuracy'])"
      ],
      "execution_count": 102,
      "outputs": [
        {
          "output_type": "stream",
          "text": [
            "_________________________________________________________________\n",
            "Layer (type)                 Output Shape              Param #   \n",
            "=================================================================\n",
            "embedding_21 (Embedding)     (None, 300, 64)           320000    \n",
            "_________________________________________________________________\n",
            "conv1d_15 (Conv1D)           (None, 50, 32)            12320     \n",
            "_________________________________________________________________\n",
            "gru_8 (GRU)                  (None, 32)                6240      \n",
            "_________________________________________________________________\n",
            "dense_46 (Dense)             (None, 1)                 33        \n",
            "=================================================================\n",
            "Total params: 338,593\n",
            "Trainable params: 338,593\n",
            "Non-trainable params: 0\n",
            "_________________________________________________________________\n"
          ],
          "name": "stdout"
        }
      ]
    },
    {
      "metadata": {
        "id": "ic6djB-NWvAE",
        "colab_type": "code",
        "colab": {
          "base_uri": "https://localhost:8080/",
          "height": 239
        },
        "outputId": "642621de-78e6-4322-dad7-abb0da581521"
      },
      "cell_type": "code",
      "source": [
        "model4.fit(x_p,y,epochs=5,validation_data=(x_p_t,y_t))"
      ],
      "execution_count": 103,
      "outputs": [
        {
          "output_type": "stream",
          "text": [
            "Train on 25000 samples, validate on 25000 samples\n",
            "Epoch 1/5\n",
            "25000/25000 [==============================] - 128s 5ms/step - loss: 0.4100 - acc: 0.8020 - val_loss: 0.3157 - val_acc: 0.8654\n",
            "Epoch 2/5\n",
            "25000/25000 [==============================] - 129s 5ms/step - loss: 0.2459 - acc: 0.9030 - val_loss: 0.3221 - val_acc: 0.8638\n",
            "Epoch 3/5\n",
            "25000/25000 [==============================] - 125s 5ms/step - loss: 0.1540 - acc: 0.9442 - val_loss: 0.3841 - val_acc: 0.8569\n",
            "Epoch 4/5\n",
            "25000/25000 [==============================] - 129s 5ms/step - loss: 0.0917 - acc: 0.9684 - val_loss: 0.4809 - val_acc: 0.8516\n",
            "Epoch 5/5\n",
            "25000/25000 [==============================] - 126s 5ms/step - loss: 0.0584 - acc: 0.9804 - val_loss: 0.5374 - val_acc: 0.8470\n"
          ],
          "name": "stdout"
        },
        {
          "output_type": "execute_result",
          "data": {
            "text/plain": [
              "<keras.callbacks.History at 0x7f0f9cb38550>"
            ]
          },
          "metadata": {
            "tags": []
          },
          "execution_count": 103
        }
      ]
    },
    {
      "metadata": {
        "id": "WGD9QDj1XCCM",
        "colab_type": "code",
        "colab": {}
      },
      "cell_type": "code",
      "source": [
        ""
      ],
      "execution_count": 0,
      "outputs": []
    }
  ]
}