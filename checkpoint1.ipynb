{
  "nbformat": 4,
  "nbformat_minor": 0,
  "metadata": {
    "colab": {
      "name": "BetterDoctor-checkpoint1.ipynb",
      "version": "0.3.2",
      "provenance": [],
      "collapsed_sections": [],
      "include_colab_link": true
    },
    "kernelspec": {
      "name": "python2",
      "display_name": "Python 2"
    },
    "accelerator": "GPU"
  },
  "cells": [
    {
      "cell_type": "markdown",
      "metadata": {
        "id": "view-in-github",
        "colab_type": "text"
      },
      "source": [
        "<a href=\"https://colab.research.google.com/github/Nishantarya80/Better_Doctor/blob/master/checkpoint1.ipynb\" target=\"_parent\"><img src=\"https://colab.research.google.com/assets/colab-badge.svg\" alt=\"Open In Colab\"/></a>"
      ]
    },
    {
      "metadata": {
        "id": "RuulEbJtRkEz",
        "colab_type": "code",
        "colab": {}
      },
      "cell_type": "code",
      "source": [
        "import numpy as np\n",
        "import pandas as pd\n",
        "import json\n",
        "import requests\n",
        "from bs4 import BeautifulSoup"
      ],
      "execution_count": 0,
      "outputs": []
    },
    {
      "metadata": {
        "id": "7QrCgBxYRkHh",
        "colab_type": "code",
        "colab": {}
      },
      "cell_type": "code",
      "source": [
        "api_key = '7d78d052e33973f392511330f6646fd7'\n",
        "#longitude and latitude of sf\n",
        "log=-122.413\n",
        "lat=37.773\n",
        "data=requests.get(\"https://api.betterdoctor.com/2016-03-01/doctors?location=\"+str(lat)+\",\"+str(log)+\",9&skip=0&limit=100&user_key=\" + api_key)\n",
        "all_data=json.loads(data.text)"
      ],
      "execution_count": 0,
      "outputs": []
    },
    {
      "metadata": {
        "id": "fQqcPUUKRkJq",
        "colab_type": "code",
        "colab": {}
      },
      "cell_type": "code",
      "source": [
        "doc_url=[]\n",
        "for data in all_data['data']:\n",
        "    for pro_data in data['ratings']:\n",
        "        if pro_data['provider'] == \"yelp\":\n",
        "            try:\n",
        "                doc_url.append(pro_data['provider_url'])\n",
        "            except Exception:\n",
        "                pass"
      ],
      "execution_count": 0,
      "outputs": []
    },
    {
      "metadata": {
        "id": "hoMx6pjVRkMR",
        "colab_type": "code",
        "outputId": "3816c577-368f-4427-c849-358dd3351bb2",
        "colab": {
          "base_uri": "https://localhost:8080/",
          "height": 34
        }
      },
      "cell_type": "code",
      "source": [
        "len(doc_url)"
      ],
      "execution_count": 5,
      "outputs": [
        {
          "output_type": "execute_result",
          "data": {
            "text/plain": [
              "13"
            ]
          },
          "metadata": {
            "tags": []
          },
          "execution_count": 5
        }
      ]
    },
    {
      "metadata": {
        "id": "zpbuJRZBRkXC",
        "colab_type": "code",
        "colab": {}
      },
      "cell_type": "code",
      "source": [
        "def doc_function(url):\n",
        "    Reviews=[]\n",
        "    Name=[]\n",
        "    try:\n",
        "      r=requests.get(url)\n",
        "      soup=BeautifulSoup(r.content,'html5lib')\n",
        "      for review in soup.find_all('div',attrs = {'class':'review-content'}):\n",
        "          Reviews.append(review.p.text.replace(u'\\xa0','')) #cleaning the Unicode representing spaces \\xa0 from our data\n",
        "    except Exception:\n",
        "      pass\n",
        "    \n",
        "    try:\n",
        "      Name=soup.find_all('h1',attrs = {'class':'biz-page-title embossed-text-white shortenough'})[0].text\n",
        "      Type=soup.find_all('h1',attrs = {'class':'biz-page-title embossed-text-white shortenough'})[1].text\n",
        "    except Exception:\n",
        "      pass \n",
        "    \n",
        "    try:\n",
        "      Name=soup.find_all('h1',attrs = {'class':'biz-page-title embossed-text-white'})[0].text\n",
        "      Type=soup.find_all('h1',attrs = {'class':'biz-page-title embossed-text-white'})[1].text\n",
        "    except Exception:\n",
        "      pass \n",
        "    \n",
        "    address=soup.find('strong',attrs = {'class':'street-address'}).address.text.replace('\\n','').replace('  ','')\n",
        "    data = [[Name,Type,address,Reviews]]\n",
        "    dftemp = pd.DataFrame(data,columns=['Name','Type','Address','Reviews'])\n",
        "    return dftemp\n",
        "\n",
        "Nick and"
      ],
      "execution_count": 0,
      "outputs": []
    },
    {
      "metadata": {
        "id": "5DnOnlw9Ru0y",
        "colab_type": "code",
        "colab": {}
      },
      "cell_type": "code",
      "source": [
        "df = pd.DataFrame(columns=['Name','Type','Address','Reviews'])#empty data frame\n",
        "for url in doc_url:\n",
        "  df=df.append(doc_function(url),ignore_index=True)"
      ],
      "execution_count": 0,
      "outputs": []
    },
    {
      "metadata": {
        "id": "SSxgBgmeZfUy",
        "colab_type": "code",
        "outputId": "b2239176-7ccd-46ad-fd62-3ce222b58766",
        "colab": {
          "base_uri": "https://localhost:8080/",
          "height": 457
        }
      },
      "cell_type": "code",
      "source": [
        "df"
      ],
      "execution_count": 8,
      "outputs": [
        {
          "output_type": "execute_result",
          "data": {
            "text/html": [
              "<div>\n",
              "<style scoped>\n",
              "    .dataframe tbody tr th:only-of-type {\n",
              "        vertical-align: middle;\n",
              "    }\n",
              "\n",
              "    .dataframe tbody tr th {\n",
              "        vertical-align: top;\n",
              "    }\n",
              "\n",
              "    .dataframe thead th {\n",
              "        text-align: right;\n",
              "    }\n",
              "</style>\n",
              "<table border=\"1\" class=\"dataframe\">\n",
              "  <thead>\n",
              "    <tr style=\"text-align: right;\">\n",
              "      <th></th>\n",
              "      <th>Name</th>\n",
              "      <th>Type</th>\n",
              "      <th>Address</th>\n",
              "      <th>Reviews</th>\n",
              "    </tr>\n",
              "  </thead>\n",
              "  <tbody>\n",
              "    <tr>\n",
              "      <th>0</th>\n",
              "      <td>John C Fletcher</td>\n",
              "      <td>MD</td>\n",
              "      <td>3838 California StSte 305San Francisco, CA 94118</td>\n",
              "      <td>[I spent several hours looking through availab...</td>\n",
              "    </tr>\n",
              "    <tr>\n",
              "      <th>1</th>\n",
              "      <td>Gretchen Andreis,</td>\n",
              "      <td>DC</td>\n",
              "      <td>1640 Tiburon BlvdSte 6Tiburon Wellness CenterB...</td>\n",
              "      <td>[Gretchen had her \"hands full\" with my neck an...</td>\n",
              "    </tr>\n",
              "    <tr>\n",
              "      <th>2</th>\n",
              "      <td>Riahi</td>\n",
              "      <td>Reza</td>\n",
              "      <td>800 Boylston StBoston, MA 02199</td>\n",
              "      <td>[]</td>\n",
              "    </tr>\n",
              "    <tr>\n",
              "      <th>3</th>\n",
              "      <td>Nick Levi,</td>\n",
              "      <td>DDS</td>\n",
              "      <td>230 California StSte 200ASan Francisco, CA 94111</td>\n",
              "      <td>[Amazing experience. Dr. Nick and his staff ar...</td>\n",
              "    </tr>\n",
              "    <tr>\n",
              "      <th>4</th>\n",
              "      <td>Eye Carumba</td>\n",
              "      <td>Optometry</td>\n",
              "      <td>4 Embarcadero CenterLobby LevelSan Francisco, ...</td>\n",
              "      <td>[Had an eyeglass emergency at work. Wouldn't h...</td>\n",
              "    </tr>\n",
              "    <tr>\n",
              "      <th>5</th>\n",
              "      <td>Nathan Yang,</td>\n",
              "      <td>DDS</td>\n",
              "      <td>380 20th AveSte 102San Francisco, CA 94121</td>\n",
              "      <td>[Very good dental clinic! They accepted me wit...</td>\n",
              "    </tr>\n",
              "    <tr>\n",
              "      <th>6</th>\n",
              "      <td>Sheila Jenkins,</td>\n",
              "      <td>MD</td>\n",
              "      <td>3700 California StSan Francisco, CA 94118</td>\n",
              "      <td>[]</td>\n",
              "    </tr>\n",
              "    <tr>\n",
              "      <th>7</th>\n",
              "      <td>Mimi Salkola,</td>\n",
              "      <td>DDS</td>\n",
              "      <td>540 N Santa Cruz AveSte B1Los Gatos, CA 95030</td>\n",
              "      <td>[Dr. Mimi Salkola is gentle, kind, and a perfe...</td>\n",
              "    </tr>\n",
              "    <tr>\n",
              "      <th>8</th>\n",
              "      <td>Dr. Sigurd</td>\n",
              "      <td>Berven</td>\n",
              "      <td>400 Parnassus AveSan Francisco, CA 94122</td>\n",
              "      <td>[Dr. Berven is an outstanding surgeon. Our exp...</td>\n",
              "    </tr>\n",
              "    <tr>\n",
              "      <th>9</th>\n",
              "      <td>Iwach Andrew,</td>\n",
              "      <td>MD</td>\n",
              "      <td>55 Stevenson StSan Francisco, CA 94105</td>\n",
              "      <td>[Dr Iwach is the best glaucoma doctor in the U...</td>\n",
              "    </tr>\n",
              "    <tr>\n",
              "      <th>10</th>\n",
              "      <td>Gene Pudberry,</td>\n",
              "      <td>DO</td>\n",
              "      <td>909 Hyde StreetSuite 119San Francisco, CA 94109</td>\n",
              "      <td>[I am sad at the poor reviews here and the har...</td>\n",
              "    </tr>\n",
              "    <tr>\n",
              "      <th>11</th>\n",
              "      <td>Norma Jo Waxman,</td>\n",
              "      <td>MD</td>\n",
              "      <td>San Francisco, CA 94110</td>\n",
              "      <td>[I don't know what I would do without Dr. Waxm...</td>\n",
              "    </tr>\n",
              "    <tr>\n",
              "      <th>12</th>\n",
              "      <td>Union Square</td>\n",
              "      <td>Dermatology</td>\n",
              "      <td>450 Sutter StSte 830San Francisco, CA 94108</td>\n",
              "      <td>[Dr. Debbaneh was great!-First-time patient-Ma...</td>\n",
              "    </tr>\n",
              "  </tbody>\n",
              "</table>\n",
              "</div>"
            ],
            "text/plain": [
              "                 Name         Type  \\\n",
              "0     John C Fletcher           MD   \n",
              "1   Gretchen Andreis,           DC   \n",
              "2               Riahi         Reza   \n",
              "3          Nick Levi,          DDS   \n",
              "4         Eye Carumba    Optometry   \n",
              "5        Nathan Yang,          DDS   \n",
              "6     Sheila Jenkins,           MD   \n",
              "7       Mimi Salkola,          DDS   \n",
              "8          Dr. Sigurd       Berven   \n",
              "9       Iwach Andrew,           MD   \n",
              "10     Gene Pudberry,           DO   \n",
              "11   Norma Jo Waxman,           MD   \n",
              "12       Union Square  Dermatology   \n",
              "\n",
              "                                              Address  \\\n",
              "0    3838 California StSte 305San Francisco, CA 94118   \n",
              "1   1640 Tiburon BlvdSte 6Tiburon Wellness CenterB...   \n",
              "2                     800 Boylston StBoston, MA 02199   \n",
              "3    230 California StSte 200ASan Francisco, CA 94111   \n",
              "4   4 Embarcadero CenterLobby LevelSan Francisco, ...   \n",
              "5          380 20th AveSte 102San Francisco, CA 94121   \n",
              "6           3700 California StSan Francisco, CA 94118   \n",
              "7       540 N Santa Cruz AveSte B1Los Gatos, CA 95030   \n",
              "8            400 Parnassus AveSan Francisco, CA 94122   \n",
              "9              55 Stevenson StSan Francisco, CA 94105   \n",
              "10    909 Hyde StreetSuite 119San Francisco, CA 94109   \n",
              "11                            San Francisco, CA 94110   \n",
              "12        450 Sutter StSte 830San Francisco, CA 94108   \n",
              "\n",
              "                                              Reviews  \n",
              "0   [I spent several hours looking through availab...  \n",
              "1   [Gretchen had her \"hands full\" with my neck an...  \n",
              "2                                                  []  \n",
              "3   [Amazing experience. Dr. Nick and his staff ar...  \n",
              "4   [Had an eyeglass emergency at work. Wouldn't h...  \n",
              "5   [Very good dental clinic! They accepted me wit...  \n",
              "6                                                  []  \n",
              "7   [Dr. Mimi Salkola is gentle, kind, and a perfe...  \n",
              "8   [Dr. Berven is an outstanding surgeon. Our exp...  \n",
              "9   [Dr Iwach is the best glaucoma doctor in the U...  \n",
              "10  [I am sad at the poor reviews here and the har...  \n",
              "11  [I don't know what I would do without Dr. Waxm...  \n",
              "12  [Dr. Debbaneh was great!-First-time patient-Ma...  "
            ]
          },
          "metadata": {
            "tags": []
          },
          "execution_count": 8
        }
      ]
    },
    {
      "metadata": {
        "id": "iKJxvMuugQfD",
        "colab_type": "code",
        "outputId": "5657c714-0d7c-4f30-8301-702decd2a164",
        "colab": {
          "base_uri": "https://localhost:8080/",
          "height": 54
        }
      },
      "cell_type": "code",
      "source": [
        "print(df['Reviews'][0])"
      ],
      "execution_count": 9,
      "outputs": [
        {
          "output_type": "stream",
          "text": [
            "[u'I spent several hours looking through available primary care physicians in the Brown and Toland group, and on Yelp, for a doctor for my hubby. I am one of those people who is very picky about docs, and finding a doctor who truly comes across like they are patient, and are listening, is really important to me. Thanks so much to all the Yelpers who took the time to praise Dr. Fletcher. It was worth it for me to do all that research here on Yelp (so, thanks to Yelp, as well!). You would not believe how many doctors either had NO ratings, or they had low ratings, either because the doctor didn\\'t have good bedside manner, OR because the staff was rude or disorganized. But not the case with Dr. Fletcher\\'s office!I was overjoyed to find out that an appointment had just opened up the next day, so I booked it right away. As the reviews indicated here on Yelp, Dr. Fletcher\\'s bedside manner is incredible. Oh and his staff was awesome too, very polite and accomodating, organized, explained everything well. I worked in a doctor\\'s office once, over 20 years ago, and know it is a HARD job. So kudos to these ladies for keeping things running so smoothly!We had an appt. booked with a very young, female primary care physician a few days prior, but my husband cancelled that appt. because he really wanted someone who was more experienced. Several times, during the appointment with Dr. Fletcher, I kept thinking about what a huge difference there would have been, between the two primary care physicians. I am guessing the other doc (who was a young woman focused more on pediatrics... I had only booked her because she had several slots available) would have just taken a quick look at him and referred him to a specialist. No offense to her, she just didn\\'t have the years behind her!But Dr. Fletcher had decades of experience and knowledge to draw from, and really took his time with my husband, asking many details. Instead of sending him to a specialist, he was able to give my hubby his own recommendations, prescriptions, etc.. I was very impressed.One thing I want to point out about going to this office... be careful when using a GPS, especially if you do not live in the city. When I saw 3838 California on the map, I assumed it must be the California Pacific Medical Center, where my brother had his baby. I should have just skpped the GPS, but nooo. And for some reason my GPS (the one on my phone: an Android MyTouch Q) told me to drive straight past it!! It had us going all the way down to the 4700 block of California, insisting the doctor\\'s office was in a residential area?!? It did not help matters that we were already late due to an accident on 101, so I really appreciate Dr. Fletcher\\'s (and the staff\\'s) patience, and the fact that Dr. Fletcher didn\\'t rush my husband through his appointment. Thank you again Dr. Fletcher and your great staff, for all that you do. My husband actually said to me, as soon as his appt. was over: \"I like him.\" And coming from my husband, who is just about as picky and sensitive as I am... that is saying a lot.', u'Since my Doctor retired ( I think I had been seeing him for 20 years). I did a search and came up with Doctor Fletcher. Well the Doc is not a spring chicken but he is a great doctor none the less. Dr Fletcher still has a very personal touch and is more concerned with the patient than with the insurance protocol.I think the only downside is that he will probably retire in a few years ( heaven forbid). And probably you have to be a bit more proactive of what you need...but that is probably the trend in healthcare.If you want an old school, caring doctor, who takes the time to listen to you.....Check Out this Doctor.', u'On calling his office, I found that Dr. Fletcher has retired. I thought people here would find the information useful.', u'Dr Fletcher is the best. I have been a patient for over 20 years and seldom do I need to see him. But when I do, He will often times see me at his lunch time or early the next day. Thankfully most visit end up with me going home, cool it for a few days and what ever it was, will heal itself. Just knowing that he is there is a provides a great sense of relief. I wish he were twenty years younger, because when I become old I hope I have a fine person like him to consult. His office staff are a joy to talk with.', u\"So I had my first appointment with Dr. Fletcher this morning, and he was the best! Listened to all my questions, asked some questions, and was very thorough. I'm so glad that I picked him as my new PCP.If you are looking for a good doctor go see Dr. Fletcher if you can.\", u'I just want to mention Dr. Fletcher retired a month ago. :-( I almost cried when he told me. There is a new doctor taking his place and I will definitely try her because I know Dr. Fletcher would only hire the best. But I am going to miss him!', u'I had my first appointment with Dr. Fletcher yesterday, on an urgent basis, to determine a course of treatment for a tiny blood clot found in my leg post-achilles rupture surgery. What a delight he is. Great bedside manner, without rush or leaving me with the feeling (as so many MDs do) that he had to get to the next patient. I have found this a recurring theme in established MDs, who are well into their careers and accomplishments. I feel confident in his care and, quite honestly, look forward to seeing him again at my follow-up visit and subsequent overall physical exam.', u'The most amazing, warmest, intelligent, patient doctor I have ever had. He knows his stuff, has a calming demeanor, and LISTENS. Love Dr Fletcher and am so grateful for all of his help over the years.', u'I found doctor Fletcher to be wonderful. He was a little older than I expected, but he was very effective. I went in for a general checkup and it was a bit oldschool and I had to strip down.Overall his staff was friendly and he seemed very competent.I would see him again.', u\"I've had three appointments with Dr. Fletcher and he has been incredibly warm and kind each time. In addition, I was amazed by how he quickly ruled out my past diagnoses and nailed the actual etiology of my adominal pain within the first 20 minutes of meeting (after years and years of being misdiagnosed by 3-4 GI docs, with GERD and acid reflux)! He gave me a prescription and I have not experienced the symptoms since He has excellent clinical skills and he put me at ease immediately and has been a strong advocate for most all my needs. I highly recommend Dr. Fletcher for his excellent quality of care.\", u'Dr. Fletcher is incredibly nice and thorough. I am kind of paranoid about health, and he really helped put me at ease. The only problem I have ever had is with his reception staff - they seem pretty disorganized at times.', u\"Dr. John Fletcher is a nice doctor but his staff leaves much to be desired. I went to Dr. Fletcher as a new patient with no medical conditions. I hadn't had health insurance for a while and wanted to establish a relationship with a primary doctor. A month or so after my routine appointment I got a bill for services I never had. The accountant billed my insurance in a way that charged me $160 more than my co-payment. I called the accountant, Sylvia, who agreed with me that it was my bill was inaccurate. She said she would take care of it but she never did. Last month, over a year since I visited Dr. Fletcher, I found out that Sylvia had sent my bill to collections and that since it was in collections she could no longer talk to me about the bill.In order to avoid bad credit I have had to pay the bill. Like health insurance isn't expensive enough! There simply isn't room for mistakes like this.I am very disappointed in the way Dr. Fletcher's office has handled this and do not recommend him on account of his support staff.\"]\n"
          ],
          "name": "stdout"
        }
      ]
    },
    {
      "metadata": {
        "id": "rx0WrawCgZx8",
        "colab_type": "code",
        "colab": {}
      },
      "cell_type": "code",
      "source": [
        ""
      ],
      "execution_count": 0,
      "outputs": []
    }
  ]
}