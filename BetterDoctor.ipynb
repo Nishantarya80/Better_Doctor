{
 "cells": [
  {
   "cell_type": "code",
   "execution_count": 1,
   "metadata": {},
   "outputs": [],
   "source": [
    "import numpy as np\n",
    "import pandas as pd\n",
    "import json\n",
    "import requests\n",
    "from bs4 import BeautifulSoup"
   ]
  },
  {
   "cell_type": "code",
   "execution_count": 2,
   "metadata": {},
   "outputs": [],
   "source": [
    "api_key = '7d78d052e33973f392511330f6646fd7'\n",
    "#longitude and latitude of sf\n",
    "log=-122.413\n",
    "lat=37.773\n",
    "data=requests.get(\"https://api.betterdoctor.com/2016-03-01/doctors?location=\"+str(lat)+\",\"+str(log)+\",100&skip=2&limit=100&user_key=\" + api_key)\n",
    "all_data=json.loads(data.text)"
   ]
  },
  {
   "cell_type": "code",
   "execution_count": 3,
   "metadata": {},
   "outputs": [],
   "source": [
    "doc_url=[]\n",
    "for data in all_data['data']:\n",
    "    for pro_data in data['ratings']:\n",
    "        if pro_data['provider'] == \"yelp\":\n",
    "            try:\n",
    "                doc_url.append(pro_data['provider_url'])\n",
    "            except Exception:\n",
    "                pass"
   ]
  },
  {
   "cell_type": "code",
   "execution_count": 4,
   "metadata": {
    "scrolled": false
   },
   "outputs": [
    {
     "data": {
      "text/plain": [
       "['http://www.yelp.com/biz/mazhar-a-khan-md-faap-morgan-hill',\n",
       " 'http://www.yelp.com/biz/mark-m-nishimura-dds-san-jose',\n",
       " 'http://www.yelp.com/biz/stephen-osborn-md-mountain-view',\n",
       " 'http://www.yelp.com/biz/tajbakhsh-sharareh-dds-daly-city',\n",
       " 'http://www.yelp.com/biz/john-c-fletcher-md-san-francisco',\n",
       " 'http://www.yelp.com/biz/dr-karli-cleary-menlo-park',\n",
       " 'http://www.yelp.com/biz/california-cardiovascular-consultants-dr-hui-zheng-milpitas',\n",
       " 'http://www.yelp.com/biz/kenneth-lin-md-redwood-shores',\n",
       " 'http://www.yelp.com/biz/gretchen-andreis-dc-belvedere-tiburon',\n",
       " 'http://www.yelp.com/biz/john-m-osborn-md-sacramento']"
      ]
     },
     "execution_count": 4,
     "metadata": {},
     "output_type": "execute_result"
    }
   ],
   "source": [
    "#df = pd.DataFrame(columns=['Name','Type','Address','Reviews'])#empty data frame\n",
    "df = pd.DataFrame(columns=['Url','Reviews'])\n",
    "doc_url"
   ]
  },
  {
   "cell_type": "markdown",
   "metadata": {},
   "source": [
    "# Review scraping"
   ]
  },
  {
   "cell_type": "code",
   "execution_count": 8,
   "metadata": {},
   "outputs": [],
   "source": [
    "def doc_function(url):\n",
    "    Reviews=[]\n",
    "    r=requests.get(url)\n",
    "    soup=BeautifulSoup(r.content,'html5lib')\n",
    "    for review in soup.find_all('div',attrs = {'class':'review-content'}):\n",
    "        Reviews.append(review.p.text.replace(u'\\xa0','')) #cleaning the Unicode representing spaces \\xa0 from our data\n",
    "\n",
    "    Name=soup.find_all('h1',attrs = {'class':'biz-page-title embossed-text-white shortenough'})[0].text\n",
    "    #Type=soup.find_all('h1',attrs = {'class':'biz-page-title embossed-text-white shortenough'})[1].text\n",
    "    #address=soup.find('strong',attrs = {'class':'street-address'}).address.text.replace('\\n','').replace('  ','')\n",
    "    #data = [[Name,Type,address,Reviews]]\n",
    "    #dftemp = pd.DataFrame(data,columns=['Name','Type','Address','Reviews'])\n",
    "    data = [[url,Reviews]]\n",
    "    dftemp = pd.DataFrame(data,columns=['Url','Reviews'])\n",
    "    return dftemp"
   ]
  },
  {
   "cell_type": "code",
   "execution_count": 9,
   "metadata": {},
   "outputs": [],
   "source": [
    "for url in doc_url:\n",
    "    try:\n",
    "        df=df.append(doc_function(url))\n",
    "    except Exception:\n",
    "                pass"
   ]
  },
  {
   "cell_type": "code",
   "execution_count": 10,
   "metadata": {},
   "outputs": [
    {
     "data": {
      "text/html": [
       "<div>\n",
       "<style scoped>\n",
       "    .dataframe tbody tr th:only-of-type {\n",
       "        vertical-align: middle;\n",
       "    }\n",
       "\n",
       "    .dataframe tbody tr th {\n",
       "        vertical-align: top;\n",
       "    }\n",
       "\n",
       "    .dataframe thead th {\n",
       "        text-align: right;\n",
       "    }\n",
       "</style>\n",
       "<table border=\"1\" class=\"dataframe\">\n",
       "  <thead>\n",
       "    <tr style=\"text-align: right;\">\n",
       "      <th></th>\n",
       "      <th>Url</th>\n",
       "      <th>Reviews</th>\n",
       "    </tr>\n",
       "  </thead>\n",
       "  <tbody>\n",
       "    <tr>\n",
       "      <th>0</th>\n",
       "      <td>http://www.yelp.com/biz/stephen-osborn-md-moun...</td>\n",
       "      <td>[He is very prompt of scheduling emergency app...</td>\n",
       "    </tr>\n",
       "    <tr>\n",
       "      <th>0</th>\n",
       "      <td>http://www.yelp.com/biz/john-c-fletcher-md-san...</td>\n",
       "      <td>[I spent several hours looking through availab...</td>\n",
       "    </tr>\n",
       "    <tr>\n",
       "      <th>0</th>\n",
       "      <td>http://www.yelp.com/biz/dr-karli-cleary-menlo-...</td>\n",
       "      <td>[As a first time mom I did not realize the imp...</td>\n",
       "    </tr>\n",
       "    <tr>\n",
       "      <th>0</th>\n",
       "      <td>http://www.yelp.com/biz/kenneth-lin-md-redwood...</td>\n",
       "      <td>[I have been using Dr. Lin as the pediatrician...</td>\n",
       "    </tr>\n",
       "    <tr>\n",
       "      <th>0</th>\n",
       "      <td>http://www.yelp.com/biz/john-m-osborn-md-sacra...</td>\n",
       "      <td>[I hope this guy retired or got sued. The MDs ...</td>\n",
       "    </tr>\n",
       "  </tbody>\n",
       "</table>\n",
       "</div>"
      ],
      "text/plain": [
       "                                                 Url  \\\n",
       "0  http://www.yelp.com/biz/stephen-osborn-md-moun...   \n",
       "0  http://www.yelp.com/biz/john-c-fletcher-md-san...   \n",
       "0  http://www.yelp.com/biz/dr-karli-cleary-menlo-...   \n",
       "0  http://www.yelp.com/biz/kenneth-lin-md-redwood...   \n",
       "0  http://www.yelp.com/biz/john-m-osborn-md-sacra...   \n",
       "\n",
       "                                             Reviews  \n",
       "0  [He is very prompt of scheduling emergency app...  \n",
       "0  [I spent several hours looking through availab...  \n",
       "0  [As a first time mom I did not realize the imp...  \n",
       "0  [I have been using Dr. Lin as the pediatrician...  \n",
       "0  [I hope this guy retired or got sued. The MDs ...  "
      ]
     },
     "execution_count": 10,
     "metadata": {},
     "output_type": "execute_result"
    }
   ],
   "source": [
    "df"
   ]
  },
  {
   "cell_type": "code",
   "execution_count": null,
   "metadata": {},
   "outputs": [],
   "source": []
  }
 ],
 "metadata": {
  "kernelspec": {
   "display_name": "Python 3",
   "language": "python",
   "name": "python3"
  },
  "language_info": {
   "codemirror_mode": {
    "name": "ipython",
    "version": 3
   },
   "file_extension": ".py",
   "mimetype": "text/x-python",
   "name": "python",
   "nbconvert_exporter": "python",
   "pygments_lexer": "ipython3",
   "version": "3.6.7"
  }
 },
 "nbformat": 4,
 "nbformat_minor": 2
}
